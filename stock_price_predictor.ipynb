{
  "nbformat": 4,
  "nbformat_minor": 0,
  "metadata": {
    "colab": {
      "provenance": [],
      "gpuType": "T4",
      "authorship_tag": "ABX9TyM/d3M1E0z4P6qxZHzzXy/0",
      "include_colab_link": true
    },
    "kernelspec": {
      "name": "python3",
      "display_name": "Python 3"
    },
    "language_info": {
      "name": "python"
    },
    "accelerator": "GPU"
  },
  "cells": [
    {
      "cell_type": "markdown",
      "metadata": {
        "id": "view-in-github",
        "colab_type": "text"
      },
      "source": [
        "<a href=\"https://colab.research.google.com/github/divya-israni/IEEE---ML-AI/blob/main/stock_price_predictor.ipynb\" target=\"_parent\"><img src=\"https://colab.research.google.com/assets/colab-badge.svg\" alt=\"Open In Colab\"/></a>"
      ]
    },
    {
      "cell_type": "code",
      "execution_count": null,
      "metadata": {
        "id": "ReDWTe3z7aXC"
      },
      "outputs": [],
      "source": [
        "#MSE (mean squared error) is a loss function we use to tell how shitty our model is - want it as low as it can be (for regression - when data is constantly changing and we're predicting)\n",
        "#MSE squared the difference in the actual value and predicted so negative numbers don't throw off our loss functions, but also so tha difference in data is bigger so we can tell, easier than j 0-1, squarin it makes the numbers bigger so we can notice them\n",
        "#our stock model thing is a supervised learning problem, then regression, then we got our loss function"
      ]
    },
    {
      "cell_type": "code",
      "source": [
        "!pip install yfinance #stock data off of yahoo"
      ],
      "metadata": {
        "colab": {
          "base_uri": "https://localhost:8080/"
        },
        "id": "gaUQM-Us-Vaj",
        "outputId": "a7663cb7-14c6-4bf9-f989-509176e58c6e"
      },
      "execution_count": null,
      "outputs": [
        {
          "output_type": "stream",
          "name": "stdout",
          "text": [
            "Requirement already satisfied: yfinance in /usr/local/lib/python3.10/dist-packages (0.2.31)\n",
            "Requirement already satisfied: pandas>=1.3.0 in /usr/local/lib/python3.10/dist-packages (from yfinance) (1.5.3)\n",
            "Requirement already satisfied: numpy>=1.16.5 in /usr/local/lib/python3.10/dist-packages (from yfinance) (1.23.5)\n",
            "Requirement already satisfied: requests>=2.31 in /usr/local/lib/python3.10/dist-packages (from yfinance) (2.31.0)\n",
            "Requirement already satisfied: multitasking>=0.0.7 in /usr/local/lib/python3.10/dist-packages (from yfinance) (0.0.11)\n",
            "Requirement already satisfied: lxml>=4.9.1 in /usr/local/lib/python3.10/dist-packages (from yfinance) (4.9.3)\n",
            "Requirement already satisfied: appdirs>=1.4.4 in /usr/local/lib/python3.10/dist-packages (from yfinance) (1.4.4)\n",
            "Requirement already satisfied: pytz>=2022.5 in /usr/local/lib/python3.10/dist-packages (from yfinance) (2023.3.post1)\n",
            "Requirement already satisfied: frozendict>=2.3.4 in /usr/local/lib/python3.10/dist-packages (from yfinance) (2.3.8)\n",
            "Requirement already satisfied: peewee>=3.16.2 in /usr/local/lib/python3.10/dist-packages (from yfinance) (3.16.3)\n",
            "Requirement already satisfied: beautifulsoup4>=4.11.1 in /usr/local/lib/python3.10/dist-packages (from yfinance) (4.11.2)\n",
            "Requirement already satisfied: html5lib>=1.1 in /usr/local/lib/python3.10/dist-packages (from yfinance) (1.1)\n",
            "Requirement already satisfied: soupsieve>1.2 in /usr/local/lib/python3.10/dist-packages (from beautifulsoup4>=4.11.1->yfinance) (2.5)\n",
            "Requirement already satisfied: six>=1.9 in /usr/local/lib/python3.10/dist-packages (from html5lib>=1.1->yfinance) (1.16.0)\n",
            "Requirement already satisfied: webencodings in /usr/local/lib/python3.10/dist-packages (from html5lib>=1.1->yfinance) (0.5.1)\n",
            "Requirement already satisfied: python-dateutil>=2.8.1 in /usr/local/lib/python3.10/dist-packages (from pandas>=1.3.0->yfinance) (2.8.2)\n",
            "Requirement already satisfied: charset-normalizer<4,>=2 in /usr/local/lib/python3.10/dist-packages (from requests>=2.31->yfinance) (3.3.0)\n",
            "Requirement already satisfied: idna<4,>=2.5 in /usr/local/lib/python3.10/dist-packages (from requests>=2.31->yfinance) (3.4)\n",
            "Requirement already satisfied: urllib3<3,>=1.21.1 in /usr/local/lib/python3.10/dist-packages (from requests>=2.31->yfinance) (2.0.6)\n",
            "Requirement already satisfied: certifi>=2017.4.17 in /usr/local/lib/python3.10/dist-packages (from requests>=2.31->yfinance) (2023.7.22)\n"
          ]
        }
      ]
    },
    {
      "cell_type": "code",
      "source": [
        "from ast import increment_lineno\n",
        "import pandas as pd #puts all your data into tables so we manipulate easy\n",
        "import numpy as np #helps w math and manipulating matrices\n",
        "import matplotlib.pyplot as plt #plotting thing\n",
        "import seaborn as sns\n",
        "import yfinance as yf\n",
        "import tensorflow as tf\n",
        "from tensorflow import keras\n",
        "from keras import Input\n",
        "from keras.models import Sequential\n",
        "from keras.layers import Dense, Dropout, SimpleRNN, LSTM, GRU\n",
        "from sklearn.model_selection import train_test_split\n",
        "\n",
        "%matplotlib inline\n",
        "\n",
        "company = 'RBLX'\n",
        "stock_data = yf.Ticker(company)\n",
        "\n",
        "stock_history = stock_data.history(period='max',interval='1d') #set interval as one day\n",
        "stock_history"
      ],
      "metadata": {
        "colab": {
          "base_uri": "https://localhost:8080/",
          "height": 455
        },
        "id": "DEs9aXq5-kua",
        "outputId": "08460b59-90cb-44fb-a337-e48ea27d81e0"
      },
      "execution_count": null,
      "outputs": [
        {
          "output_type": "execute_result",
          "data": {
            "text/plain": [
              "                                Open       High        Low  ...    Volume  Dividends  Stock Splits\n",
              "Date                                                        ...                                   \n",
              "2021-03-10 00:00:00-05:00  64.500000  74.830002  60.500000  ...  97069300        0.0           0.0\n",
              "2021-03-11 00:00:00-05:00  74.930000  77.779999  70.129997  ...  59629300        0.0           0.0\n",
              "2021-03-12 00:00:00-05:00  72.470001  72.959999  69.110001  ...  19714700        0.0           0.0\n",
              "2021-03-15 00:00:00-04:00  70.019997  74.059998  66.250000  ...  19549800        0.0           0.0\n",
              "2021-03-16 00:00:00-04:00  73.730003  78.000000  73.180000  ...  30274400        0.0           0.0\n",
              "...                              ...        ...        ...  ...       ...        ...           ...\n",
              "2023-10-17 00:00:00-04:00  30.070000  31.209999  30.000000  ...   8933800        0.0           0.0\n",
              "2023-10-18 00:00:00-04:00  30.639999  30.809999  30.000000  ...   6356600        0.0           0.0\n",
              "2023-10-19 00:00:00-04:00  30.410000  32.070000  30.020000  ...  11888400        0.0           0.0\n",
              "2023-10-20 00:00:00-04:00  31.129999  31.930000  30.825001  ...   9051300        0.0           0.0\n",
              "2023-10-23 00:00:00-04:00  31.250000  31.629900  30.500000  ...   8076707        0.0           0.0\n",
              "\n",
              "[661 rows x 7 columns]"
            ],
            "text/html": [
              "\n",
              "  <div id=\"df-eed783b3-26d1-4389-a6d6-c6d2bb4546bc\" class=\"colab-df-container\">\n",
              "    <div>\n",
              "<style scoped>\n",
              "    .dataframe tbody tr th:only-of-type {\n",
              "        vertical-align: middle;\n",
              "    }\n",
              "\n",
              "    .dataframe tbody tr th {\n",
              "        vertical-align: top;\n",
              "    }\n",
              "\n",
              "    .dataframe thead th {\n",
              "        text-align: right;\n",
              "    }\n",
              "</style>\n",
              "<table border=\"1\" class=\"dataframe\">\n",
              "  <thead>\n",
              "    <tr style=\"text-align: right;\">\n",
              "      <th></th>\n",
              "      <th>Open</th>\n",
              "      <th>High</th>\n",
              "      <th>Low</th>\n",
              "      <th>Close</th>\n",
              "      <th>Volume</th>\n",
              "      <th>Dividends</th>\n",
              "      <th>Stock Splits</th>\n",
              "    </tr>\n",
              "    <tr>\n",
              "      <th>Date</th>\n",
              "      <th></th>\n",
              "      <th></th>\n",
              "      <th></th>\n",
              "      <th></th>\n",
              "      <th></th>\n",
              "      <th></th>\n",
              "      <th></th>\n",
              "    </tr>\n",
              "  </thead>\n",
              "  <tbody>\n",
              "    <tr>\n",
              "      <th>2021-03-10 00:00:00-05:00</th>\n",
              "      <td>64.500000</td>\n",
              "      <td>74.830002</td>\n",
              "      <td>60.500000</td>\n",
              "      <td>69.500000</td>\n",
              "      <td>97069300</td>\n",
              "      <td>0.0</td>\n",
              "      <td>0.0</td>\n",
              "    </tr>\n",
              "    <tr>\n",
              "      <th>2021-03-11 00:00:00-05:00</th>\n",
              "      <td>74.930000</td>\n",
              "      <td>77.779999</td>\n",
              "      <td>70.129997</td>\n",
              "      <td>73.900002</td>\n",
              "      <td>59629300</td>\n",
              "      <td>0.0</td>\n",
              "      <td>0.0</td>\n",
              "    </tr>\n",
              "    <tr>\n",
              "      <th>2021-03-12 00:00:00-05:00</th>\n",
              "      <td>72.470001</td>\n",
              "      <td>72.959999</td>\n",
              "      <td>69.110001</td>\n",
              "      <td>69.699997</td>\n",
              "      <td>19714700</td>\n",
              "      <td>0.0</td>\n",
              "      <td>0.0</td>\n",
              "    </tr>\n",
              "    <tr>\n",
              "      <th>2021-03-15 00:00:00-04:00</th>\n",
              "      <td>70.019997</td>\n",
              "      <td>74.059998</td>\n",
              "      <td>66.250000</td>\n",
              "      <td>72.150002</td>\n",
              "      <td>19549800</td>\n",
              "      <td>0.0</td>\n",
              "      <td>0.0</td>\n",
              "    </tr>\n",
              "    <tr>\n",
              "      <th>2021-03-16 00:00:00-04:00</th>\n",
              "      <td>73.730003</td>\n",
              "      <td>78.000000</td>\n",
              "      <td>73.180000</td>\n",
              "      <td>77.000000</td>\n",
              "      <td>30274400</td>\n",
              "      <td>0.0</td>\n",
              "      <td>0.0</td>\n",
              "    </tr>\n",
              "    <tr>\n",
              "      <th>...</th>\n",
              "      <td>...</td>\n",
              "      <td>...</td>\n",
              "      <td>...</td>\n",
              "      <td>...</td>\n",
              "      <td>...</td>\n",
              "      <td>...</td>\n",
              "      <td>...</td>\n",
              "    </tr>\n",
              "    <tr>\n",
              "      <th>2023-10-17 00:00:00-04:00</th>\n",
              "      <td>30.070000</td>\n",
              "      <td>31.209999</td>\n",
              "      <td>30.000000</td>\n",
              "      <td>31.000000</td>\n",
              "      <td>8933800</td>\n",
              "      <td>0.0</td>\n",
              "      <td>0.0</td>\n",
              "    </tr>\n",
              "    <tr>\n",
              "      <th>2023-10-18 00:00:00-04:00</th>\n",
              "      <td>30.639999</td>\n",
              "      <td>30.809999</td>\n",
              "      <td>30.000000</td>\n",
              "      <td>30.190001</td>\n",
              "      <td>6356600</td>\n",
              "      <td>0.0</td>\n",
              "      <td>0.0</td>\n",
              "    </tr>\n",
              "    <tr>\n",
              "      <th>2023-10-19 00:00:00-04:00</th>\n",
              "      <td>30.410000</td>\n",
              "      <td>32.070000</td>\n",
              "      <td>30.020000</td>\n",
              "      <td>31.670000</td>\n",
              "      <td>11888400</td>\n",
              "      <td>0.0</td>\n",
              "      <td>0.0</td>\n",
              "    </tr>\n",
              "    <tr>\n",
              "      <th>2023-10-20 00:00:00-04:00</th>\n",
              "      <td>31.129999</td>\n",
              "      <td>31.930000</td>\n",
              "      <td>30.825001</td>\n",
              "      <td>31.750000</td>\n",
              "      <td>9051300</td>\n",
              "      <td>0.0</td>\n",
              "      <td>0.0</td>\n",
              "    </tr>\n",
              "    <tr>\n",
              "      <th>2023-10-23 00:00:00-04:00</th>\n",
              "      <td>31.250000</td>\n",
              "      <td>31.629900</td>\n",
              "      <td>30.500000</td>\n",
              "      <td>30.570000</td>\n",
              "      <td>8076707</td>\n",
              "      <td>0.0</td>\n",
              "      <td>0.0</td>\n",
              "    </tr>\n",
              "  </tbody>\n",
              "</table>\n",
              "<p>661 rows × 7 columns</p>\n",
              "</div>\n",
              "    <div class=\"colab-df-buttons\">\n",
              "\n",
              "  <div class=\"colab-df-container\">\n",
              "    <button class=\"colab-df-convert\" onclick=\"convertToInteractive('df-eed783b3-26d1-4389-a6d6-c6d2bb4546bc')\"\n",
              "            title=\"Convert this dataframe to an interactive table.\"\n",
              "            style=\"display:none;\">\n",
              "\n",
              "  <svg xmlns=\"http://www.w3.org/2000/svg\" height=\"24px\" viewBox=\"0 -960 960 960\">\n",
              "    <path d=\"M120-120v-720h720v720H120Zm60-500h600v-160H180v160Zm220 220h160v-160H400v160Zm0 220h160v-160H400v160ZM180-400h160v-160H180v160Zm440 0h160v-160H620v160ZM180-180h160v-160H180v160Zm440 0h160v-160H620v160Z\"/>\n",
              "  </svg>\n",
              "    </button>\n",
              "\n",
              "  <style>\n",
              "    .colab-df-container {\n",
              "      display:flex;\n",
              "      gap: 12px;\n",
              "    }\n",
              "\n",
              "    .colab-df-convert {\n",
              "      background-color: #E8F0FE;\n",
              "      border: none;\n",
              "      border-radius: 50%;\n",
              "      cursor: pointer;\n",
              "      display: none;\n",
              "      fill: #1967D2;\n",
              "      height: 32px;\n",
              "      padding: 0 0 0 0;\n",
              "      width: 32px;\n",
              "    }\n",
              "\n",
              "    .colab-df-convert:hover {\n",
              "      background-color: #E2EBFA;\n",
              "      box-shadow: 0px 1px 2px rgba(60, 64, 67, 0.3), 0px 1px 3px 1px rgba(60, 64, 67, 0.15);\n",
              "      fill: #174EA6;\n",
              "    }\n",
              "\n",
              "    .colab-df-buttons div {\n",
              "      margin-bottom: 4px;\n",
              "    }\n",
              "\n",
              "    [theme=dark] .colab-df-convert {\n",
              "      background-color: #3B4455;\n",
              "      fill: #D2E3FC;\n",
              "    }\n",
              "\n",
              "    [theme=dark] .colab-df-convert:hover {\n",
              "      background-color: #434B5C;\n",
              "      box-shadow: 0px 1px 3px 1px rgba(0, 0, 0, 0.15);\n",
              "      filter: drop-shadow(0px 1px 2px rgba(0, 0, 0, 0.3));\n",
              "      fill: #FFFFFF;\n",
              "    }\n",
              "  </style>\n",
              "\n",
              "    <script>\n",
              "      const buttonEl =\n",
              "        document.querySelector('#df-eed783b3-26d1-4389-a6d6-c6d2bb4546bc button.colab-df-convert');\n",
              "      buttonEl.style.display =\n",
              "        google.colab.kernel.accessAllowed ? 'block' : 'none';\n",
              "\n",
              "      async function convertToInteractive(key) {\n",
              "        const element = document.querySelector('#df-eed783b3-26d1-4389-a6d6-c6d2bb4546bc');\n",
              "        const dataTable =\n",
              "          await google.colab.kernel.invokeFunction('convertToInteractive',\n",
              "                                                    [key], {});\n",
              "        if (!dataTable) return;\n",
              "\n",
              "        const docLinkHtml = 'Like what you see? Visit the ' +\n",
              "          '<a target=\"_blank\" href=https://colab.research.google.com/notebooks/data_table.ipynb>data table notebook</a>'\n",
              "          + ' to learn more about interactive tables.';\n",
              "        element.innerHTML = '';\n",
              "        dataTable['output_type'] = 'display_data';\n",
              "        await google.colab.output.renderOutput(dataTable, element);\n",
              "        const docLink = document.createElement('div');\n",
              "        docLink.innerHTML = docLinkHtml;\n",
              "        element.appendChild(docLink);\n",
              "      }\n",
              "    </script>\n",
              "  </div>\n",
              "\n",
              "\n",
              "<div id=\"df-6c1556f4-94c1-47ec-a885-a99d8e860f6f\">\n",
              "  <button class=\"colab-df-quickchart\" onclick=\"quickchart('df-6c1556f4-94c1-47ec-a885-a99d8e860f6f')\"\n",
              "            title=\"Suggest charts.\"\n",
              "            style=\"display:none;\">\n",
              "\n",
              "<svg xmlns=\"http://www.w3.org/2000/svg\" height=\"24px\"viewBox=\"0 0 24 24\"\n",
              "     width=\"24px\">\n",
              "    <g>\n",
              "        <path d=\"M19 3H5c-1.1 0-2 .9-2 2v14c0 1.1.9 2 2 2h14c1.1 0 2-.9 2-2V5c0-1.1-.9-2-2-2zM9 17H7v-7h2v7zm4 0h-2V7h2v10zm4 0h-2v-4h2v4z\"/>\n",
              "    </g>\n",
              "</svg>\n",
              "  </button>\n",
              "\n",
              "<style>\n",
              "  .colab-df-quickchart {\n",
              "      --bg-color: #E8F0FE;\n",
              "      --fill-color: #1967D2;\n",
              "      --hover-bg-color: #E2EBFA;\n",
              "      --hover-fill-color: #174EA6;\n",
              "      --disabled-fill-color: #AAA;\n",
              "      --disabled-bg-color: #DDD;\n",
              "  }\n",
              "\n",
              "  [theme=dark] .colab-df-quickchart {\n",
              "      --bg-color: #3B4455;\n",
              "      --fill-color: #D2E3FC;\n",
              "      --hover-bg-color: #434B5C;\n",
              "      --hover-fill-color: #FFFFFF;\n",
              "      --disabled-bg-color: #3B4455;\n",
              "      --disabled-fill-color: #666;\n",
              "  }\n",
              "\n",
              "  .colab-df-quickchart {\n",
              "    background-color: var(--bg-color);\n",
              "    border: none;\n",
              "    border-radius: 50%;\n",
              "    cursor: pointer;\n",
              "    display: none;\n",
              "    fill: var(--fill-color);\n",
              "    height: 32px;\n",
              "    padding: 0;\n",
              "    width: 32px;\n",
              "  }\n",
              "\n",
              "  .colab-df-quickchart:hover {\n",
              "    background-color: var(--hover-bg-color);\n",
              "    box-shadow: 0 1px 2px rgba(60, 64, 67, 0.3), 0 1px 3px 1px rgba(60, 64, 67, 0.15);\n",
              "    fill: var(--button-hover-fill-color);\n",
              "  }\n",
              "\n",
              "  .colab-df-quickchart-complete:disabled,\n",
              "  .colab-df-quickchart-complete:disabled:hover {\n",
              "    background-color: var(--disabled-bg-color);\n",
              "    fill: var(--disabled-fill-color);\n",
              "    box-shadow: none;\n",
              "  }\n",
              "\n",
              "  .colab-df-spinner {\n",
              "    border: 2px solid var(--fill-color);\n",
              "    border-color: transparent;\n",
              "    border-bottom-color: var(--fill-color);\n",
              "    animation:\n",
              "      spin 1s steps(1) infinite;\n",
              "  }\n",
              "\n",
              "  @keyframes spin {\n",
              "    0% {\n",
              "      border-color: transparent;\n",
              "      border-bottom-color: var(--fill-color);\n",
              "      border-left-color: var(--fill-color);\n",
              "    }\n",
              "    20% {\n",
              "      border-color: transparent;\n",
              "      border-left-color: var(--fill-color);\n",
              "      border-top-color: var(--fill-color);\n",
              "    }\n",
              "    30% {\n",
              "      border-color: transparent;\n",
              "      border-left-color: var(--fill-color);\n",
              "      border-top-color: var(--fill-color);\n",
              "      border-right-color: var(--fill-color);\n",
              "    }\n",
              "    40% {\n",
              "      border-color: transparent;\n",
              "      border-right-color: var(--fill-color);\n",
              "      border-top-color: var(--fill-color);\n",
              "    }\n",
              "    60% {\n",
              "      border-color: transparent;\n",
              "      border-right-color: var(--fill-color);\n",
              "    }\n",
              "    80% {\n",
              "      border-color: transparent;\n",
              "      border-right-color: var(--fill-color);\n",
              "      border-bottom-color: var(--fill-color);\n",
              "    }\n",
              "    90% {\n",
              "      border-color: transparent;\n",
              "      border-bottom-color: var(--fill-color);\n",
              "    }\n",
              "  }\n",
              "</style>\n",
              "\n",
              "  <script>\n",
              "    async function quickchart(key) {\n",
              "      const quickchartButtonEl =\n",
              "        document.querySelector('#' + key + ' button');\n",
              "      quickchartButtonEl.disabled = true;  // To prevent multiple clicks.\n",
              "      quickchartButtonEl.classList.add('colab-df-spinner');\n",
              "      try {\n",
              "        const charts = await google.colab.kernel.invokeFunction(\n",
              "            'suggestCharts', [key], {});\n",
              "      } catch (error) {\n",
              "        console.error('Error during call to suggestCharts:', error);\n",
              "      }\n",
              "      quickchartButtonEl.classList.remove('colab-df-spinner');\n",
              "      quickchartButtonEl.classList.add('colab-df-quickchart-complete');\n",
              "    }\n",
              "    (() => {\n",
              "      let quickchartButtonEl =\n",
              "        document.querySelector('#df-6c1556f4-94c1-47ec-a885-a99d8e860f6f button');\n",
              "      quickchartButtonEl.style.display =\n",
              "        google.colab.kernel.accessAllowed ? 'block' : 'none';\n",
              "    })();\n",
              "  </script>\n",
              "</div>\n",
              "    </div>\n",
              "  </div>\n"
            ]
          },
          "metadata": {},
          "execution_count": 3
        }
      ]
    },
    {
      "cell_type": "code",
      "source": [
        "closing_prices = stock_history['Close']\n",
        "plt.title(f'Closing Price of {company}')\n",
        "plt.xlabel('Date')\n",
        "plt.ylabel('Closing Price')\n",
        "plt.plot(closing_prices)\n",
        "plt.show()"
      ],
      "metadata": {
        "colab": {
          "base_uri": "https://localhost:8080/",
          "height": 472
        },
        "id": "ggD_RMPp_2rR",
        "outputId": "34335ee6-2dc4-4e73-edd6-0522d1a5fca6"
      },
      "execution_count": null,
      "outputs": [
        {
          "output_type": "display_data",
          "data": {
            "text/plain": [
              "<Figure size 640x480 with 1 Axes>"
            ],
            "image/png": "[encoded data removed]"
          },
          "metadata": {}
        }
      ]
    },
    {
      "cell_type": "code",
      "source": [
        "#split into training and testing data so we know how well our model actually works (use liek 20-30% of data for testing so it's big enough to identify errors, leave rest so model trains nice)\n",
        "#if it does bad on testing data that means model wasn't ablt to predict; training data doesn't matter as much bc the model used this data to train/learn (alr seen it)\n",
        "#random_state gives the same random data over and over if you set it equal to any number so its easier to see your work and you can see the same data (random_state is splitting your data randomly)\n",
        "#shuffling data is based off random_state then\n",
        "training_data, testing_data = train_test_split(stock_history,test_size=0.2,random_state=42,shuffle=True)"
      ],
      "metadata": {
        "id": "OWOWoeQbBDBA"
      },
      "execution_count": null,
      "outputs": []
    },
    {
      "cell_type": "code",
      "source": [
        "# Splitting the training data into X and y\n",
        "X_train = training_data.drop(['Close','Volume','Dividends','Stock Splits'],axis=1)\n",
        "y_train = training_data['Close']\n",
        "\n",
        "# Splitting the testing data into X and y\n",
        "X_test = testing_data.drop(['Close','Volume','Dividends','Stock Splits'],axis=1)\n",
        "y_test = testing_data['Close']\n",
        "\n",
        "#x input, y output"
      ],
      "metadata": {
        "id": "WRnEc14EDPoV"
      },
      "execution_count": null,
      "outputs": []
    },
    {
      "cell_type": "code",
      "source": [
        "#need a base model to compare, we are using a artificial neural network (our ANN solves our regression problem)\n",
        "#gradient descent optimizes our weights; works with loss function to minimize loss\n",
        "#regression is predicting continuous values (for our y); regression is a type of ML problem\n",
        "#vanishing gradient is when derivative gets really small (expanding gradient opp i think)\n",
        "#we initialize our weights this certain way bc its shown to do well through research\n",
        "\n",
        "ann_model = Sequential()\n",
        "#relu is an activation function that we do to introduce nonlinearity\n",
        "#activation is relu also bc can't have negative for stock\n",
        "ann_model.add(Dense(25,activation='relu',kernel_initializer='he_normal',bias_initializer='ones',input_shape=(X_train.shape[1],1)))\n",
        "ann_model.add(Dropout(rate=0.2))\n",
        "\n",
        "#dropout combats overfitting (when your model starts memorzing the outputs and inputs, loss function for test high but for training low; underfitting is when your model learns nothing (and doesn't memorize), so testing and training loss function is huge)\n",
        "#dropout is a regulization method\n",
        "\n",
        "#regulization method that randomly sets off nodes by multiplying them by 0 and puts pressure on every other node to know content abt the problem at hand bc those nodes are off (makes sure everything is prepared); this then regulizes the model and makes every node have a purpose to be there\n",
        "#you should do this in your hidden layers but not output layers duh bc 0\n",
        "#rate is saying 20% of those nodes/outputs to be set to 0\n",
        "ann_model.add(Dense(50,activation='relu',kernel_initializer='he_normal',bias_initializer='ones'))\n",
        "ann_model.add(Dropout(rate=0.2))\n",
        "ann_model.add(Dense(25,activation='relu',kernel_initializer='he_normal',bias_initializer='ones'))\n",
        "ann_model.add(Dense(1,activation='relu',kernel_initializer='he_normal',bias_initializer='ones'))\n",
        "#add more layers by experimenting and see how it affects the loss\n",
        "\n",
        "ann_model.summary()\n"
      ],
      "metadata": {
        "colab": {
          "base_uri": "https://localhost:8080/"
        },
        "id": "_jIXlQ5wEWfS",
        "outputId": "b1fc95e0-5e2f-4b12-f853-e1a3ae77fa3d"
      },
      "execution_count": null,
      "outputs": [
        {
          "output_type": "stream",
          "name": "stdout",
          "text": [
            "Model: \"sequential_1\"\n",
            "_________________________________________________________________\n",
            " Layer (type)                Output Shape              Param #   \n",
            "=================================================================\n",
            " dense_4 (Dense)             (None, 3, 25)             50        \n",
            "                                                                 \n",
            " dropout_2 (Dropout)         (None, 3, 25)             0         \n",
            "                                                                 \n",
            " dense_5 (Dense)             (None, 3, 50)             1300      \n",
            "                                                                 \n",
            " dropout_3 (Dropout)         (None, 3, 50)             0         \n",
            "                                                                 \n",
            " dense_6 (Dense)             (None, 3, 25)             1275      \n",
            "                                                                 \n",
            " dense_7 (Dense)             (None, 3, 1)              26        \n",
            "                                                                 \n",
            "=================================================================\n",
            "Total params: 2651 (10.36 KB)\n",
            "Trainable params: 2651 (10.36 KB)\n",
            "Non-trainable params: 0 (0.00 Byte)\n",
            "_________________________________________________________________\n"
          ]
        }
      ]
    },
    {
      "cell_type": "code",
      "source": [
        "optimizer = keras.optimizers.SGD(learning_rate=0.03)\n",
        "loss_function = keras.losses.MeanSquaredError()\n",
        "ann_model.compile(optimizer = optimizer,loss=loss_function)"
      ],
      "metadata": {
        "id": "uvFZ0PVrJIMg"
      },
      "execution_count": null,
      "outputs": []
    },
    {
      "cell_type": "code",
      "source": [
        "history = ann_model.fit(X_train,y_train,batch_size=32,epochs=50,shuffle=True)"
      ],
      "metadata": {
        "colab": {
          "base_uri": "https://localhost:8080/"
        },
        "id": "nNaaJjwBJ9S7",
        "outputId": "984a507b-bf82-46c4-cba7-eccac137d44c"
      },
      "execution_count": null,
      "outputs": [
        {
          "output_type": "stream",
          "name": "stdout",
          "text": [
            "Epoch 1/50\n",
            "17/17 [==============================] - 1s 8ms/step - loss: 10903.6455\n",
            "Epoch 2/50\n",
            "17/17 [==============================] - 0s 8ms/step - loss: 3497.1721\n",
            "Epoch 3/50\n",
            "17/17 [==============================] - 0s 7ms/step - loss: 3497.1721\n",
            "Epoch 4/50\n",
            "17/17 [==============================] - 0s 8ms/step - loss: 3497.1719\n",
            "Epoch 5/50\n",
            "17/17 [==============================] - 0s 7ms/step - loss: 3497.1719\n",
            "Epoch 6/50\n",
            "17/17 [==============================] - 0s 7ms/step - loss: 3497.1716\n",
            "Epoch 7/50\n",
            "17/17 [==============================] - 0s 8ms/step - loss: 3497.1721\n",
            "Epoch 8/50\n",
            "17/17 [==============================] - 0s 8ms/step - loss: 3497.1721\n",
            "Epoch 9/50\n",
            "17/17 [==============================] - 0s 8ms/step - loss: 3497.1721\n",
            "Epoch 10/50\n",
            "17/17 [==============================] - 0s 7ms/step - loss: 3497.1721\n",
            "Epoch 11/50\n",
            "17/17 [==============================] - 0s 8ms/step - loss: 3497.1721\n",
            "Epoch 12/50\n",
            "17/17 [==============================] - 0s 8ms/step - loss: 3497.1714\n",
            "Epoch 13/50\n",
            "17/17 [==============================] - 0s 8ms/step - loss: 3497.1721\n",
            "Epoch 14/50\n",
            "17/17 [==============================] - 0s 9ms/step - loss: 3497.1719\n",
            "Epoch 15/50\n",
            "17/17 [==============================] - 0s 7ms/step - loss: 3497.1716\n",
            "Epoch 16/50\n",
            "17/17 [==============================] - 0s 8ms/step - loss: 3497.1721\n",
            "Epoch 17/50\n",
            "17/17 [==============================] - 0s 8ms/step - loss: 3497.1721\n",
            "Epoch 18/50\n",
            "17/17 [==============================] - 0s 6ms/step - loss: 3497.1721\n",
            "Epoch 19/50\n",
            "17/17 [==============================] - 0s 5ms/step - loss: 3497.1721\n",
            "Epoch 20/50\n",
            "17/17 [==============================] - 0s 5ms/step - loss: 3497.1719\n",
            "Epoch 21/50\n",
            "17/17 [==============================] - 0s 5ms/step - loss: 3497.1721\n",
            "Epoch 22/50\n",
            "17/17 [==============================] - 0s 5ms/step - loss: 3497.1724\n",
            "Epoch 23/50\n",
            "17/17 [==============================] - 0s 5ms/step - loss: 3497.1716\n",
            "Epoch 24/50\n",
            "17/17 [==============================] - 0s 5ms/step - loss: 3497.1719\n",
            "Epoch 25/50\n",
            "17/17 [==============================] - 0s 5ms/step - loss: 3497.1716\n",
            "Epoch 26/50\n",
            "17/17 [==============================] - 0s 4ms/step - loss: 3497.1716\n",
            "Epoch 27/50\n",
            "17/17 [==============================] - 0s 5ms/step - loss: 3497.1721\n",
            "Epoch 28/50\n",
            "17/17 [==============================] - 0s 5ms/step - loss: 3497.1716\n",
            "Epoch 29/50\n",
            "17/17 [==============================] - 0s 5ms/step - loss: 3497.1719\n",
            "Epoch 30/50\n",
            "17/17 [==============================] - 0s 5ms/step - loss: 3497.1719\n",
            "Epoch 31/50\n",
            "17/17 [==============================] - 0s 5ms/step - loss: 3497.1716\n",
            "Epoch 32/50\n",
            "17/17 [==============================] - 0s 5ms/step - loss: 3497.1719\n",
            "Epoch 33/50\n",
            "17/17 [==============================] - 0s 5ms/step - loss: 3497.1721\n",
            "Epoch 34/50\n",
            "17/17 [==============================] - 0s 5ms/step - loss: 3497.1724\n",
            "Epoch 35/50\n",
            "17/17 [==============================] - 0s 5ms/step - loss: 3497.1721\n",
            "Epoch 36/50\n",
            "17/17 [==============================] - 0s 5ms/step - loss: 3497.1716\n",
            "Epoch 37/50\n",
            "17/17 [==============================] - 0s 5ms/step - loss: 3497.1719\n",
            "Epoch 38/50\n",
            "17/17 [==============================] - 0s 5ms/step - loss: 3497.1719\n",
            "Epoch 39/50\n",
            "17/17 [==============================] - 0s 5ms/step - loss: 3497.1719\n",
            "Epoch 40/50\n",
            "17/17 [==============================] - 0s 4ms/step - loss: 3497.1719\n",
            "Epoch 41/50\n",
            "17/17 [==============================] - 0s 5ms/step - loss: 3497.1724\n",
            "Epoch 42/50\n",
            "17/17 [==============================] - 0s 5ms/step - loss: 3497.1716\n",
            "Epoch 43/50\n",
            "17/17 [==============================] - 0s 5ms/step - loss: 3497.1719\n",
            "Epoch 44/50\n",
            "17/17 [==============================] - 0s 5ms/step - loss: 3497.1721\n",
            "Epoch 45/50\n",
            "17/17 [==============================] - 0s 5ms/step - loss: 3497.1719\n",
            "Epoch 46/50\n",
            "17/17 [==============================] - 0s 6ms/step - loss: 3497.1719\n",
            "Epoch 47/50\n",
            "17/17 [==============================] - 0s 5ms/step - loss: 3497.1721\n",
            "Epoch 48/50\n",
            "17/17 [==============================] - 0s 5ms/step - loss: 3497.1726\n",
            "Epoch 49/50\n",
            "17/17 [==============================] - 0s 6ms/step - loss: 3497.1726\n",
            "Epoch 50/50\n",
            "17/17 [==============================] - 0s 5ms/step - loss: 3497.1716\n"
          ]
        }
      ]
    },
    {
      "cell_type": "code",
      "source": [
        "training_loss = ann_model.evaluate(X_train,y_train,batch_size=32,verbose=0) #verbose means doesnt want anything printing out from model\n",
        "print(f'Training Loss in Dollars: ${np.sqrt(training_loss)}')\n",
        "\n",
        "#what this prints is how much we were generally off by (ass model)"
      ],
      "metadata": {
        "colab": {
          "base_uri": "https://localhost:8080/"
        },
        "id": "GkXfpOoMKWSY",
        "outputId": "3e3a2abe-1875-4366-fda0-862b717b0ae0"
      },
      "execution_count": null,
      "outputs": [
        {
          "output_type": "stream",
          "name": "stdout",
          "text": [
            "Training Loss in Dollars: $59.13689304605565\n"
          ]
        }
      ]
    },
    {
      "cell_type": "code",
      "source": [
        "testing_loss = ann_model.evaluate(X_test,y_test,batch_size=32,verbose=0)\n",
        "print(f'Testing Loss in Dollars: ${np.sqrt(testing_loss)}')"
      ],
      "metadata": {
        "colab": {
          "base_uri": "https://localhost:8080/"
        },
        "id": "6DDZq6zuJ0X4",
        "outputId": "0e9c047d-1684-4097-bb82-ca87d9420e62"
      },
      "execution_count": null,
      "outputs": [
        {
          "output_type": "stream",
          "name": "stdout",
          "text": [
            "Testing Loss in Dollars: $60.42638212113977\n"
          ]
        }
      ]
    },
    {
      "cell_type": "code",
      "source": [
        "#sequence models are where our data is in some type of ordering sequence (ex. stock prices: dates are the sequence)\n",
        "#language is a very important sequence type (the sequence matters, ex. words order in sentences matter)\n",
        "\n",
        "#transforming this data into sequence data\n",
        "\n",
        "raw_sequence_data_X = []\n",
        "raw_sequence_data_Y = []\n",
        "data_list = stock_history.drop(['Volume','Dividends','Stock Splits'],axis=1).values\n",
        "# Iterating through each example in the stock data\n",
        "for i in range(len(data_list)):\n",
        "  sequence = [[0]*4] * 10 # creating a list of ten zeros\n",
        "\n",
        "  # Checking if there are 10 days worth of past stock data\n",
        "  if i < 10:\n",
        "    for x in range(i):\n",
        "      sequence[x] = list(data_list[x])\n",
        "  else:\n",
        "    index = 0\n",
        "    for x in range(i-10,i):\n",
        "      sequence[index] = list(data_list[x])\n",
        "      index += 1\n",
        "  raw_sequence_data_X.append(sequence)\n",
        "  raw_sequence_data_Y.append(data_list[i][3])"
      ],
      "metadata": {
        "id": "HRJZUebSLdPq"
      },
      "execution_count": null,
      "outputs": []
    },
    {
      "cell_type": "code",
      "source": [
        "# Changing the lists into numpy arrays\n",
        "sequence_X = np.array(raw_sequence_data_X)\n",
        "sequence_Y = np.array(raw_sequence_data_Y)\n",
        "\n",
        "# Checking the shape\n",
        "sequence_X.shape"
      ],
      "metadata": {
        "colab": {
          "base_uri": "https://localhost:8080/"
        },
        "id": "gt3RQwYtNO6-",
        "outputId": "e2dcb073-3f80-4e12-81fe-49575d64d5c5"
      },
      "execution_count": null,
      "outputs": [
        {
          "output_type": "execute_result",
          "data": {
            "text/plain": [
              "(661, 10, 4)"
            ]
          },
          "metadata": {},
          "execution_count": 22
        }
      ]
    },
    {
      "cell_type": "code",
      "source": [
        "# Finally, we need to split this data into training and testing\n",
        "X_train, X_test, y_train, y_test = train_test_split(sequence_X,sequence_Y,test_size=0.2,random_state=42,shuffle=True)"
      ],
      "metadata": {
        "id": "-4uKj5g1Nrvv"
      },
      "execution_count": null,
      "outputs": []
    },
    {
      "cell_type": "code",
      "source": [
        "#for Recurrent Neural Networks basically each output you get gets fed as the input for the next one (has sequential property)\n",
        "#takes in two inputs: current inputs from today and the past time steps stuff input from the previous day and so on?\n",
        "#at each time stamp sending in data of xt and then sending the output back in at each time stamp i think\n",
        "#you use the activation you get and out it in with some other stuff to get your y bc the a gives you it for 40 dimensional but you only want 1\n",
        "#the weights are the same at each time stamp\n",
        "#sends each at (activation time stamp) in when you do the nezt one, y^, your output, is not sent in\n",
        "#ouput and prediction are different things in this, the output (y) is j your output but not necessarily your prediciton; a is your prediction which you send through the next one; i think you get a from y you j have to change some stuff based on dimension and stuff\n",
        "\n",
        "# Implementing a basic RNN model for the project\n",
        "rnn_model = Sequential()\n",
        "\n",
        "# The 50 refers to how big we want our output vector, a_t, to be. In this case, we want it to be 50 dimensional.\n",
        "# You can think of each row as containing some kind of feature regarding the data.\n",
        "rnn_model.add(SimpleRNN(50,activation='tanh',bias_initializer='ones',return_sequences=False,input_shape=(X_train.shape[1],X_train.shape[2])))\n",
        "\n",
        "# At the end of our RNN, we will get a 50 dimensional vector as our output.\n",
        "# We need a single number so we will add an ANN on top of this RNN.\n",
        "rnn_model.add(Dense(25,activation='relu',kernel_initializer='he_normal',bias_initializer='ones'))\n",
        "rnn_model.add(Dense(1,activation='relu',kernel_initializer='he_normal',bias_initializer='ones'))\n",
        "\n",
        "# Checking what the model looks like:\n",
        "rnn_model.summary()"
      ],
      "metadata": {
        "id": "P4EWbR9_NwcM",
        "colab": {
          "base_uri": "https://localhost:8080/"
        },
        "outputId": "5b0b8146-c794-4416-cb0b-82d445794bd0"
      },
      "execution_count": null,
      "outputs": [
        {
          "output_type": "stream",
          "name": "stdout",
          "text": [
            "Model: \"sequential_2\"\n",
            "_________________________________________________________________\n",
            " Layer (type)                Output Shape              Param #   \n",
            "=================================================================\n",
            " simple_rnn (SimpleRNN)      (None, 50)                2750      \n",
            "                                                                 \n",
            " dense_8 (Dense)             (None, 25)                1275      \n",
            "                                                                 \n",
            " dense_9 (Dense)             (None, 1)                 26        \n",
            "                                                                 \n",
            "=================================================================\n",
            "Total params: 4051 (15.82 KB)\n",
            "Trainable params: 4051 (15.82 KB)\n",
            "Non-trainable params: 0 (0.00 Byte)\n",
            "_________________________________________________________________\n"
          ]
        }
      ]
    },
    {
      "cell_type": "code",
      "source": [
        "# Training the model\n",
        "optimizer = keras.optimizers.SGD(learning_rate=0.001)\n",
        "loss_function = keras.losses.MeanSquaredError()\n",
        "rnn_model.compile(optimizer=optimizer,loss=loss_function)"
      ],
      "metadata": {
        "id": "m_-co92nN0X3"
      },
      "execution_count": null,
      "outputs": []
    },
    {
      "cell_type": "code",
      "source": [
        "# Model training\n",
        "history = rnn_model.fit(X_train,y_train,batch_size=32,epochs=15,shuffle=True)"
      ],
      "metadata": {
        "colab": {
          "base_uri": "https://localhost:8080/"
        },
        "id": "RrFRR3rMN3JI",
        "outputId": "47ba83f6-9dc2-4569-8257-d483fc6bc24f"
      },
      "execution_count": null,
      "outputs": [
        {
          "output_type": "stream",
          "name": "stdout",
          "text": [
            "Epoch 1/15\n",
            "17/17 [==============================] - 0s 10ms/step - loss: 689.9408\n",
            "Epoch 2/15\n",
            "17/17 [==============================] - 0s 11ms/step - loss: 630.5093\n",
            "Epoch 3/15\n",
            "17/17 [==============================] - 0s 14ms/step - loss: 607.2036\n",
            "Epoch 4/15\n",
            "17/17 [==============================] - 0s 17ms/step - loss: 654.1240\n",
            "Epoch 5/15\n",
            "17/17 [==============================] - 0s 17ms/step - loss: 696.8840\n",
            "Epoch 6/15\n",
            "17/17 [==============================] - 0s 17ms/step - loss: 678.8400\n",
            "Epoch 7/15\n",
            "17/17 [==============================] - 0s 17ms/step - loss: 724.9189\n",
            "Epoch 8/15\n",
            "17/17 [==============================] - 0s 18ms/step - loss: 696.9943\n",
            "Epoch 9/15\n",
            "17/17 [==============================] - 0s 17ms/step - loss: 686.0825\n",
            "Epoch 10/15\n",
            "17/17 [==============================] - 0s 17ms/step - loss: 617.4029\n",
            "Epoch 11/15\n",
            "17/17 [==============================] - 0s 18ms/step - loss: 760.2750\n",
            "Epoch 12/15\n",
            "17/17 [==============================] - 0s 15ms/step - loss: 672.2184\n",
            "Epoch 13/15\n",
            "17/17 [==============================] - 0s 9ms/step - loss: 674.1038\n",
            "Epoch 14/15\n",
            "17/17 [==============================] - 0s 10ms/step - loss: 755.6533\n",
            "Epoch 15/15\n",
            "17/17 [==============================] - 0s 10ms/step - loss: 679.5950\n"
          ]
        }
      ]
    },
    {
      "cell_type": "code",
      "source": [
        "# Evaluating the model\n",
        "training_loss = rnn_model.evaluate(X_train,y_train,batch_size=32,verbose=0)\n",
        "print(f'Training Loss in Dollars: ${np.sqrt(training_loss)}')"
      ],
      "metadata": {
        "colab": {
          "base_uri": "https://localhost:8080/"
        },
        "id": "HwnqKLQjOBal",
        "outputId": "11a39a65-8630-4ccb-88d4-7d1ff23a12fa"
      },
      "execution_count": null,
      "outputs": [
        {
          "output_type": "stream",
          "name": "stdout",
          "text": [
            "Training Loss in Dollars: $25.710738091751786\n"
          ]
        }
      ]
    },
    {
      "cell_type": "code",
      "source": [
        "# Evaluating the model\n",
        "testing_loss = rnn_model.evaluate(X_test,y_test,batch_size=32,verbose=0) #verbose is j telling keras not to print out all the work/show how they got there\n",
        "print(f'Testing Loss in Dollars: ${np.sqrt(testing_loss)}')"
      ],
      "metadata": {
        "colab": {
          "base_uri": "https://localhost:8080/"
        },
        "id": "wJk0gk2hOLKX",
        "outputId": "84491ace-87ad-42c1-ccf2-dd490f36bae2"
      },
      "execution_count": null,
      "outputs": [
        {
          "output_type": "stream",
          "name": "stdout",
          "text": [
            "Testing Loss in Dollars: $24.545485021912636\n"
          ]
        }
      ]
    },
    {
      "cell_type": "code",
      "source": [
        "#Gated Recurrent Unit (GRU)\n",
        "#updategate computes how much of the old stuff to keep and contender tells how much of the new stuff to add, and then you can get your new output with this informaiton(at) which is a vector\n",
        "#it helps so you only keep the memory you need and not just store everything and not know what's important like RNN\n",
        "#gru improvement to RNN\n",
        "#gru captures long term information well but not short term (puts both kinds in the same vector i think)\n",
        "#the dog jumps over the moon; the not imprortnat, moon dog and jump would all be stored in the memory\n",
        "\n",
        "# Building the GRU model\n",
        "gru_model = Sequential()\n",
        "gru_model.add(GRU(50,activation='tanh',bias_initializer='ones',return_sequences=False,input_shape=(X_train.shape[1],X_train.shape[2])))\n",
        "\n",
        "# At the end of our GRU, we will get a 40 dimensional vector as our output.\n",
        "# We need a single number so we will add an ANN on top of this RNN.\n",
        "gru_model.add(Dense(25,activation='relu',kernel_initializer='he_normal',bias_initializer='ones'))\n",
        "gru_model.add(Dense(1,activation='relu',kernel_initializer='he_normal',bias_initializer='ones'))\n",
        "\n",
        "# Checking what the model looks like:\n",
        "gru_model.summary()"
      ],
      "metadata": {
        "colab": {
          "base_uri": "https://localhost:8080/"
        },
        "id": "S9G5q0SNTB9F",
        "outputId": "08ce6a54-56ef-4d72-ff6f-3721b8161a13"
      },
      "execution_count": null,
      "outputs": [
        {
          "output_type": "stream",
          "name": "stdout",
          "text": [
            "Model: \"sequential_4\"\n",
            "_________________________________________________________________\n",
            " Layer (type)                Output Shape              Param #   \n",
            "=================================================================\n",
            " gru_1 (GRU)                 (None, 50)                8400      \n",
            "                                                                 \n",
            " dense_12 (Dense)            (None, 25)                1275      \n",
            "                                                                 \n",
            " dense_13 (Dense)            (None, 1)                 26        \n",
            "                                                                 \n",
            "=================================================================\n",
            "Total params: 9701 (37.89 KB)\n",
            "Trainable params: 9701 (37.89 KB)\n",
            "Non-trainable params: 0 (0.00 Byte)\n",
            "_________________________________________________________________\n"
          ]
        }
      ]
    },
    {
      "cell_type": "code",
      "source": [
        "# Training the model\n",
        "optimizer = keras.optimizers.SGD(learning_rate=0.001)\n",
        "loss_function = keras.losses.MeanSquaredError()\n",
        "gru_model.compile(optimizer=optimizer,loss=loss_function)"
      ],
      "metadata": {
        "id": "9Mpz_q7dTmDg"
      },
      "execution_count": null,
      "outputs": []
    },
    {
      "cell_type": "code",
      "source": [
        "# Model training\n",
        "history = gru_model.fit(X_train,y_train,batch_size=32,epochs=15,shuffle=True)"
      ],
      "metadata": {
        "colab": {
          "base_uri": "https://localhost:8080/"
        },
        "id": "PqNbxSNVTrBB",
        "outputId": "295827a1-3108-4315-b874-0a2f99035953"
      },
      "execution_count": null,
      "outputs": [
        {
          "output_type": "stream",
          "name": "stdout",
          "text": [
            "Epoch 1/15\n",
            "17/17 [==============================] - 4s 5ms/step - loss: 922.3408\n",
            "Epoch 2/15\n",
            "17/17 [==============================] - 0s 5ms/step - loss: 729.8155\n",
            "Epoch 3/15\n",
            "17/17 [==============================] - 0s 5ms/step - loss: 644.1662\n",
            "Epoch 4/15\n",
            "17/17 [==============================] - 0s 5ms/step - loss: 614.4465\n",
            "Epoch 5/15\n",
            "17/17 [==============================] - 0s 5ms/step - loss: 631.3190\n",
            "Epoch 6/15\n",
            "17/17 [==============================] - 0s 5ms/step - loss: 638.4039\n",
            "Epoch 7/15\n",
            "17/17 [==============================] - 0s 5ms/step - loss: 652.5457\n",
            "Epoch 8/15\n",
            "17/17 [==============================] - 0s 5ms/step - loss: 652.3058\n",
            "Epoch 9/15\n",
            "17/17 [==============================] - 0s 5ms/step - loss: 644.2672\n",
            "Epoch 10/15\n",
            "17/17 [==============================] - 0s 5ms/step - loss: 652.2770\n",
            "Epoch 11/15\n",
            "17/17 [==============================] - 0s 4ms/step - loss: 623.8314\n",
            "Epoch 12/15\n",
            "17/17 [==============================] - 0s 5ms/step - loss: 614.5739\n",
            "Epoch 13/15\n",
            "17/17 [==============================] - 0s 6ms/step - loss: 675.3146\n",
            "Epoch 14/15\n",
            "17/17 [==============================] - 0s 5ms/step - loss: 623.9860\n",
            "Epoch 15/15\n",
            "17/17 [==============================] - 0s 5ms/step - loss: 642.9589\n"
          ]
        }
      ]
    },
    {
      "cell_type": "code",
      "source": [
        "# Evaluating the model\n",
        "training_loss = gru_model.evaluate(X_train,y_train,batch_size=32,verbose=0)\n",
        "print(f'Training Loss in Dollars: ${np.sqrt(training_loss)}')"
      ],
      "metadata": {
        "colab": {
          "base_uri": "https://localhost:8080/"
        },
        "id": "IsNFXPk6TuIv",
        "outputId": "9ccf1e76-3fe1-49ad-c883-e09e8c866adf"
      },
      "execution_count": null,
      "outputs": [
        {
          "output_type": "stream",
          "name": "stdout",
          "text": [
            "Training Loss in Dollars: $24.982554948559855\n"
          ]
        }
      ]
    },
    {
      "cell_type": "code",
      "source": [
        "# Evaluating the model\n",
        "testing_loss = gru_model.evaluate(X_test,y_test,batch_size=32,verbose=0)\n",
        "print(f'Testing Loss in Dollars: ${np.sqrt(testing_loss)}')"
      ],
      "metadata": {
        "colab": {
          "base_uri": "https://localhost:8080/"
        },
        "id": "oRBd9Jr0TysU",
        "outputId": "46f25d7a-c196-44ed-96c7-fa32a8aa795f"
      },
      "execution_count": null,
      "outputs": [
        {
          "output_type": "stream",
          "name": "stdout",
          "text": [
            "Testing Loss in Dollars: $24.00648792310828\n"
          ]
        }
      ]
    },
    {
      "cell_type": "code",
      "source": [
        "#Long Short Term Memory (LSTM)\n",
        "#added more gates than gru, have forgetgate, updategate, and output gate\n",
        "#update gate tells us how much of the contender we should put into long term memory while contender tells us how much of the long term memory i think we should forget\n",
        "#updategate is same as gru; how much we should update the long term memory by; tells us how much of the new information (contender_t) is important for building concepts over the sequence (w the equation)\n",
        "#forgetgate tells us how much information we should forget regarding the current long-term memory (c_t-1)\n",
        "#outputgate tells us how much we should output (short term memory) (a_t)\n",
        "#c_t is long term memory i think\n",
        "#the dog jumps over the moon; dog would be long term memory but over and moon short term memory\n",
        "#equation same as gru but weights are different\n",
        "#the matrices are different bc if they weren't there'd be no difference between update and forget gate; these gates do different things\n",
        "\n",
        "# Building the LSTM model\n",
        "lstm_model = Sequential()\n",
        "lstm_model.add(LSTM(30,activation='tanh',recurrent_activation='sigmoid',bias_initializer='ones',return_sequences=False,input_shape=(X_train.shape[1],X_train.shape[2])))\n",
        "\n",
        "# At the end of our LSTM, we will get a 50 dimensional vector as our output.\n",
        "# We need a single number so we will add an ANN on top of this RNN.\n",
        "lstm_model.add(Dense(25,activation='relu',kernel_initializer='he_normal',bias_initializer='ones'))\n",
        "lstm_model.add(Dense(1,activation='relu',kernel_initializer='he_normal',bias_initializer='ones'))\n",
        "\n",
        "# Checking what the model looks like:\n",
        "lstm_model.summary()"
      ],
      "metadata": {
        "colab": {
          "base_uri": "https://localhost:8080/"
        },
        "id": "Y8YpX6vkUwjn",
        "outputId": "68d8e5b0-e829-449a-8c05-0391bd17df8d"
      },
      "execution_count": null,
      "outputs": [
        {
          "output_type": "stream",
          "name": "stdout",
          "text": [
            "Model: \"sequential_5\"\n",
            "_________________________________________________________________\n",
            " Layer (type)                Output Shape              Param #   \n",
            "=================================================================\n",
            " lstm (LSTM)                 (None, 30)                4200      \n",
            "                                                                 \n",
            " dense_14 (Dense)            (None, 25)                775       \n",
            "                                                                 \n",
            " dense_15 (Dense)            (None, 1)                 26        \n",
            "                                                                 \n",
            "=================================================================\n",
            "Total params: 5001 (19.54 KB)\n",
            "Trainable params: 5001 (19.54 KB)\n",
            "Non-trainable params: 0 (0.00 Byte)\n",
            "_________________________________________________________________\n"
          ]
        }
      ]
    },
    {
      "cell_type": "code",
      "source": [
        "# Training the model\n",
        "optimizer = keras.optimizers.SGD(learning_rate=0.001)\n",
        "loss_function = keras.losses.MeanSquaredError()\n",
        "lstm_model.compile(optimizer=optimizer,loss=loss_function)"
      ],
      "metadata": {
        "id": "YqmcBtpgW5yh"
      },
      "execution_count": null,
      "outputs": []
    },
    {
      "cell_type": "code",
      "source": [
        "# Model training\n",
        "history = lstm_model.fit(X_train,y_train,batch_size=32,epochs=5,shuffle=True)"
      ],
      "metadata": {
        "colab": {
          "base_uri": "https://localhost:8080/"
        },
        "id": "XQd7kRHNW8g1",
        "outputId": "67e466d7-39b7-405d-f86f-1b0762476237"
      },
      "execution_count": null,
      "outputs": [
        {
          "output_type": "stream",
          "name": "stdout",
          "text": [
            "Epoch 1/5\n",
            "17/17 [==============================] - 2s 5ms/step - loss: 3497.1719\n",
            "Epoch 2/5\n",
            "17/17 [==============================] - 0s 5ms/step - loss: 3497.1719\n",
            "Epoch 3/5\n",
            "17/17 [==============================] - 0s 5ms/step - loss: 3497.1716\n",
            "Epoch 4/5\n",
            "17/17 [==============================] - 0s 5ms/step - loss: 3497.1719\n",
            "Epoch 5/5\n",
            "17/17 [==============================] - 0s 5ms/step - loss: 3497.1721\n"
          ]
        }
      ]
    },
    {
      "cell_type": "code",
      "source": [
        "# Evaluating the model\n",
        "training_loss = lstm_model.evaluate(X_train,y_train,batch_size=32,verbose=0)\n",
        "print(f'Training Loss in Dollars: ${np.sqrt(training_loss)}')"
      ],
      "metadata": {
        "colab": {
          "base_uri": "https://localhost:8080/"
        },
        "id": "_nJDKED8XBRk",
        "outputId": "7b43db16-e185-4995-f1b7-363f7fd8653f"
      },
      "execution_count": null,
      "outputs": [
        {
          "output_type": "stream",
          "name": "stdout",
          "text": [
            "Training Loss in Dollars: $59.13689304605565\n"
          ]
        }
      ]
    },
    {
      "cell_type": "code",
      "source": [
        "# Evaluating the model\n",
        "testing_loss = lstm_model.evaluate(X_test,y_test,batch_size=32,verbose=0)\n",
        "print(f'Testing Loss in Dollars: ${np.sqrt(testing_loss)}')\n",
        "\n",
        "#mine does worse, idk why"
      ],
      "metadata": {
        "colab": {
          "base_uri": "https://localhost:8080/"
        },
        "id": "5g5Qt2WWXDP1",
        "outputId": "19a5930d-3f00-46c6-d88e-e99ed7b91e32"
      },
      "execution_count": null,
      "outputs": [
        {
          "output_type": "stream",
          "name": "stdout",
          "text": [
            "Testing Loss in Dollars: $60.42638212113977\n"
          ]
        }
      ]
    }
  ]
}