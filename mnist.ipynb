{
  "nbformat": 4,
  "nbformat_minor": 0,
  "metadata": {
    "colab": {
      "provenance": [],
      "gpuType": "T4",
      "authorship_tag": "ABX9TyOXmY9E6Pd7iIf60bOxtQ+5",
      "include_colab_link": true
    },
    "kernelspec": {
      "name": "python3",
      "display_name": "Python 3"
    },
    "language_info": {
      "name": "python"
    },
    "accelerator": "GPU"
  },
  "cells": [
    {
      "cell_type": "markdown",
      "metadata": {
        "id": "view-in-github",
        "colab_type": "text"
      },
      "source": [
        "<a href=\"https://colab.research.google.com/github/divya-israni/IEEE---ML-AI/blob/main/mnist.ipynb\" target=\"_parent\"><img src=\"https://colab.research.google.com/assets/colab-badge.svg\" alt=\"Open In Colab\"/></a>"
      ]
    },
    {
      "cell_type": "code",
      "execution_count": null,
      "metadata": {
        "colab": {
          "base_uri": "https://localhost:8080/"
        },
        "id": "QiAzTXetzTRe",
        "outputId": "2464e80b-4e0b-420c-df80-40b1a05f625d"
      },
      "outputs": [
        {
          "output_type": "stream",
          "name": "stdout",
          "text": [
            "Mounted at /content/drive\n"
          ]
        }
      ],
      "source": [
        "#import libraries\n",
        "import pandas as pd\n",
        "import numpy as np\n",
        "import matplotlib.pyplot as plt\n",
        "\n",
        "import tensorflow as tf\n",
        "from tensorflow import keras\n",
        "from keras import Input\n",
        "from keras.models import Sequential\n",
        "from keras.layers import Dense, Flatten\n",
        "import cv2\n",
        "\n",
        "from google.colab import drive\n",
        "drive.mount('/content/drive')\n",
        "\n",
        "# %matplotline inline"
      ]
    },
    {
      "cell_type": "code",
      "source": [
        "training_data, testing_data = keras.datasets.mnist.load_data()\n",
        "\n",
        "print(f'Training Data Shape: {training_data[0].shape}')\n",
        "print(f'Testing Dta Shape: {testing_data[0].shape}')"
      ],
      "metadata": {
        "colab": {
          "base_uri": "https://localhost:8080/"
        },
        "id": "pRdZU2iH1UAi",
        "outputId": "dedd1b54-dfaa-43ed-93cd-c890b96b0313"
      },
      "execution_count": null,
      "outputs": [
        {
          "output_type": "stream",
          "name": "stdout",
          "text": [
            "Downloading data from https://storage.googleapis.com/tensorflow/tf-keras-datasets/mnist.npz\n",
            "11490434/11490434 [==============================] - 1s 0us/step\n",
            "Training Data Shape: (60000, 28, 28)\n",
            "Testing Dta Shape: (10000, 28, 28)\n"
          ]
        }
      ]
    },
    {
      "cell_type": "code",
      "source": [
        "random_index = np.random.randint(low=0,high=training_data[0].shape[0],size=1,dtype=int) #this is just looking at some random index\n",
        "random_example = np.squeeze(training_data[0][random_index],axis=0)  #axis=0 means i want to take out the first index (zero)\n",
        "#0 in first cell for x which is index of random thing, 1 in second for y which is our labels\n",
        "\n",
        "plt.imshow(random_example)\n",
        "print(f'Image Label: {training_data[1][random_index][0]}')\n",
        "plt.show()"
      ],
      "metadata": {
        "colab": {
          "base_uri": "https://localhost:8080/",
          "height": 448
        },
        "id": "wI-4dHQT2ZJx",
        "outputId": "0f7e1ac9-7cfa-496e-9b0b-84298c564d1b"
      },
      "execution_count": null,
      "outputs": [
        {
          "output_type": "stream",
          "name": "stdout",
          "text": [
            "Image Label: 0\n"
          ]
        },
        {
          "output_type": "display_data",
          "data": {
            "text/plain": [
              "<Figure size 640x480 with 1 Axes>"
            ],
            "image/png": "[encoded data removed]"
          },
          "metadata": {}
        }
      ]
    },
    {
      "cell_type": "code",
      "source": [
        "#supervised learning x --> y (f(x)) -- basically it's predicting an output with x, we write the --> to get to y (nueral networks approximates)\n",
        "train_x = training_data[0] / 255.0    #/ by 255 to scale the numbers down so runtime is faster (easier to work w smaller numbers), 0-255 is the pixel values for images\n",
        "train_y = training_data[1]            #y is for our labels 0-9 (digits) so we don't want to scale this bc then model will not be able to detect the number\n",
        "\n",
        "test_X = testing_data[0] / 255.0\n",
        "test_y = testing_data[1]"
      ],
      "metadata": {
        "id": "L52r1gHy3-YA"
      },
      "execution_count": null,
      "outputs": []
    },
    {
      "cell_type": "code",
      "source": [
        "print(f'Shape of X: {train_x.shape}')\n",
        "print(f'Shape of Y: {train_y.shape}') #after , is 1 python doesn't put\n",
        "\n",
        "#1 after 60000 bc you are prediciting 1 thing and this is scalar (label is just a vector, which is one column so like one vertical down matrix)\n",
        "#1 after 60000 bc there is only one column for the labels\n",
        "#y is like 3[1 4 5] (pretend there is a enter between each digit), inside the [] is the labels you are getting\n",
        "#these are categorical variables (the labels) we don't care abt the values so they view it w the 0 1 shit so the model can't tell what's bigger and take that into account (makes it bins)\n",
        "#28 for shape of x bc it is not scalar (28 is the size of the images, 2D)\n",
        "#60000 is the number of data you have (images)"
      ],
      "metadata": {
        "colab": {
          "base_uri": "https://localhost:8080/"
        },
        "id": "hexizgHk53Kl",
        "outputId": "861eb69a-f1a4-42dc-85db-46f725d87633"
      },
      "execution_count": null,
      "outputs": [
        {
          "output_type": "stream",
          "name": "stdout",
          "text": [
            "Shape of X: (60000, 28, 28)\n",
            "Shape of Y: (60000,)\n"
          ]
        }
      ]
    },
    {
      "cell_type": "code",
      "source": [
        "train_y = keras.utils.to_categorical(train_y,num_classes=10) #10 bc 0-9, how many digits we are trying to predict\n",
        "test_y = keras.utils.to_categorical(train_y,num_classes=10)\n",
        "#this makes y 1 0 bc we want it to be since we have 10 digits?\n",
        "print(f'{train_y.shape}')"
      ],
      "metadata": {
        "id": "SGdJEYUk7yAn",
        "colab": {
          "base_uri": "https://localhost:8080/"
        },
        "outputId": "719aa937-c6cb-4f68-d534-3913417b0aba"
      },
      "execution_count": null,
      "outputs": [
        {
          "output_type": "stream",
          "name": "stdout",
          "text": [
            "(60000, 10)\n"
          ]
        }
      ]
    },
    {
      "cell_type": "code",
      "source": [
        "#for nueral netwokrs (which are functions) we do a weighted summation and add a bias to it bc nature has bias so our function should\n",
        "#we give it x and w for the summation, x is different inputs and w is it's weight(or parameters) (we have to find them) (weight like importance i think)\n",
        "#activation functions introduce the non linear relationships to our ML models bc functions are like never linear fo predicting stuff\n",
        "  #one common activation function is ReLU\n",
        "\n",
        "#building model, sequential tells keras it is fully connected bc every output in each layer goes to the next layer\n",
        "model = Sequential()\n",
        "model.add(Input(shape=(28,28))) #always add an input layer so keras knows what to expect (like what shape)\n",
        "#can only take in vector so make matrix vector, flattening rows and columns by stacking them; vector=28*28 = 784 (this will be our vector since when you stack the images you do 28*28 which is our pixel values)\n",
        "#(each matrix is 1 image)\n",
        "model.add(Flatten())\n",
        "\n",
        "model.add(Dense(units=7,activation='relu')) #dense bc flattened it, these 4 are hidden layers\n",
        "model.add(Dense(units=50,activation='relu'))\n",
        "model.add(Dense(units=20,activation='relu'))\n",
        "model.add(Dense(units=13,activation='relu')) #every nueron uses all these units bc in each layer we're doing the summation thing w 13 units and so on\n",
        "model.add(Dense(units=10,activation='softmax'))\n",
        "\n",
        "model.summary()\n",
        "#output layer, 10 bc 10 digits so 10 classes, softmax gives us probabilites, which we want our last layer to be (does this by e^x(layer)/summation e^x (e^x(layer) for all layers added))\n",
        "#hidden layers are downstream, output layer is the last layer (middle hidden layers normally 50-100)\n",
        "#7328 is found by adding how many weights/params we have\n",
        "#for dense 11 we have 50 neurons and only 7 weights to take in so its 400 (it goes after each other like that), 7 nuerons and 784 weights/params to take it, etc"
      ],
      "metadata": {
        "colab": {
          "base_uri": "https://localhost:8080/"
        },
        "id": "dWgHkJ-U8bI5",
        "outputId": "6a0bbfad-5e45-46b0-b41b-25b626294e99"
      },
      "execution_count": null,
      "outputs": [
        {
          "output_type": "stream",
          "name": "stdout",
          "text": [
            "Model: \"sequential\"\n",
            "_________________________________________________________________\n",
            " Layer (type)                Output Shape              Param #   \n",
            "=================================================================\n",
            " flatten (Flatten)           (None, 784)               0         \n",
            "                                                                 \n",
            " dense (Dense)               (None, 7)                 5495      \n",
            "                                                                 \n",
            " dense_1 (Dense)             (None, 50)                400       \n",
            "                                                                 \n",
            " dense_2 (Dense)             (None, 20)                1020      \n",
            "                                                                 \n",
            " dense_3 (Dense)             (None, 13)                273       \n",
            "                                                                 \n",
            " dense_4 (Dense)             (None, 10)                140       \n",
            "                                                                 \n",
            "=================================================================\n",
            "Total params: 7328 (28.62 KB)\n",
            "Trainable params: 7328 (28.62 KB)\n",
            "Non-trainable params: 0 (0.00 Byte)\n",
            "_________________________________________________________________\n"
          ]
        }
      ]
    },
    {
      "cell_type": "code",
      "source": [
        "#we randomly set our weights (ex. 50, 20), but we want to find them\n",
        "#lost function tells us how shitty our model is based on weights, want to minimize this\n",
        "#we want to find the set of weights through the like bottom of the lost function(like imagine that graph when you get near the bottom (graph is like downward parabola from top to bottom))\n",
        "#we use the chain rule to find the weights in relation to the lost function (derivative tells us how steep it is from hill)\n",
        "#after finding the weight use gradient descent to update this (the weights) and optimize the function (for this function we set an alpha that shouldn't be too big or small bc it's the steps you take down the hill(lost function)) - we are taking a step down the most steep part (small steps takes too long and big ones overshoots the bottom)\n",
        "\n",
        "loss_function = 'categorical_crossentropy' #i think we want it to be higher not lower? penalty thing\n",
        "optimizer = keras.optimizers.SGD(learning_rate=0.01) #runs gradient descent on a randomly selected point/group of points so doesn't take as long (learning rate is alpha)\n",
        "metrics = ['accuracy']\n",
        "model.compile(optimizer=optimizer,loss=loss_function,metrics=metrics)\n",
        "\n",
        "history = model.fit(x=train_x,y=train_y,batch_size=32,epochs=50,shuffle=True) #epochs is how many steps im taking of gradient descent we do, we shuffle the data so the model doesn't memorize the order of the images (each  point is an image)\n",
        "#batch_size is divinding the data into batch sizes so you don't have to throw the entire data in bc that would take forever"
      ],
      "metadata": {
        "colab": {
          "base_uri": "https://localhost:8080/"
        },
        "id": "rWJ9fCv2B5vB",
        "outputId": "9aa7acfe-6e9b-4272-e802-9665b56a88ea"
      },
      "execution_count": null,
      "outputs": [
        {
          "output_type": "stream",
          "name": "stdout",
          "text": [
            "Epoch 1/50\n",
            "1875/1875 [==============================] - 19s 7ms/step - loss: 1.4453 - accuracy: 0.4921\n",
            "Epoch 2/50\n",
            "1875/1875 [==============================] - 8s 4ms/step - loss: 0.5040 - accuracy: 0.8476\n",
            "Epoch 3/50\n",
            "1875/1875 [==============================] - 7s 4ms/step - loss: 0.3874 - accuracy: 0.8851\n",
            "Epoch 4/50\n",
            "1875/1875 [==============================] - 7s 4ms/step - loss: 0.3479 - accuracy: 0.8965\n",
            "Epoch 5/50\n",
            "1875/1875 [==============================] - 7s 4ms/step - loss: 0.3280 - accuracy: 0.9023\n",
            "Epoch 6/50\n",
            "1875/1875 [==============================] - 7s 4ms/step - loss: 0.3129 - accuracy: 0.9076\n",
            "Epoch 7/50\n",
            "1875/1875 [==============================] - 7s 4ms/step - loss: 0.3017 - accuracy: 0.9094\n",
            "Epoch 8/50\n",
            "1875/1875 [==============================] - 8s 4ms/step - loss: 0.2927 - accuracy: 0.9138\n",
            "Epoch 9/50\n",
            "1875/1875 [==============================] - 8s 4ms/step - loss: 0.2856 - accuracy: 0.9139\n",
            "Epoch 10/50\n",
            "1875/1875 [==============================] - 8s 4ms/step - loss: 0.2782 - accuracy: 0.9170\n",
            "Epoch 11/50\n",
            "1875/1875 [==============================] - 6s 3ms/step - loss: 0.2732 - accuracy: 0.9184\n",
            "Epoch 12/50\n",
            "1875/1875 [==============================] - 8s 4ms/step - loss: 0.2692 - accuracy: 0.9184\n",
            "Epoch 13/50\n",
            "1875/1875 [==============================] - 6s 3ms/step - loss: 0.2652 - accuracy: 0.9200\n",
            "Epoch 14/50\n",
            "1875/1875 [==============================] - 7s 4ms/step - loss: 0.2608 - accuracy: 0.9213\n",
            "Epoch 15/50\n",
            "1875/1875 [==============================] - 6s 3ms/step - loss: 0.2563 - accuracy: 0.9234\n",
            "Epoch 16/50\n",
            "1875/1875 [==============================] - 7s 4ms/step - loss: 0.2507 - accuracy: 0.9238\n",
            "Epoch 17/50\n",
            "1875/1875 [==============================] - 7s 4ms/step - loss: 0.2435 - accuracy: 0.9278\n",
            "Epoch 18/50\n",
            "1875/1875 [==============================] - 8s 4ms/step - loss: 0.2375 - accuracy: 0.9296\n",
            "Epoch 19/50\n",
            "1875/1875 [==============================] - 6s 3ms/step - loss: 0.2320 - accuracy: 0.9307\n",
            "Epoch 20/50\n",
            "1875/1875 [==============================] - 7s 4ms/step - loss: 0.2267 - accuracy: 0.9324\n",
            "Epoch 21/50\n",
            "1875/1875 [==============================] - 7s 4ms/step - loss: 0.2235 - accuracy: 0.9329\n",
            "Epoch 22/50\n",
            "1875/1875 [==============================] - 8s 4ms/step - loss: 0.2197 - accuracy: 0.9354\n",
            "Epoch 23/50\n",
            "1875/1875 [==============================] - 7s 4ms/step - loss: 0.2169 - accuracy: 0.9349\n",
            "Epoch 24/50\n",
            "1875/1875 [==============================] - 8s 4ms/step - loss: 0.2141 - accuracy: 0.9357\n",
            "Epoch 25/50\n",
            "1875/1875 [==============================] - 7s 4ms/step - loss: 0.2117 - accuracy: 0.9366\n",
            "Epoch 26/50\n",
            "1875/1875 [==============================] - 8s 4ms/step - loss: 0.2091 - accuracy: 0.9377\n",
            "Epoch 27/50\n",
            "1875/1875 [==============================] - 8s 4ms/step - loss: 0.2071 - accuracy: 0.9379\n",
            "Epoch 28/50\n",
            "1875/1875 [==============================] - 8s 4ms/step - loss: 0.2056 - accuracy: 0.9385\n",
            "Epoch 29/50\n",
            "1875/1875 [==============================] - 7s 3ms/step - loss: 0.2036 - accuracy: 0.9391\n",
            "Epoch 30/50\n",
            "1875/1875 [==============================] - 7s 4ms/step - loss: 0.2018 - accuracy: 0.9397\n",
            "Epoch 31/50\n",
            "1875/1875 [==============================] - 6s 3ms/step - loss: 0.1995 - accuracy: 0.9401\n",
            "Epoch 32/50\n",
            "1875/1875 [==============================] - 8s 4ms/step - loss: 0.1982 - accuracy: 0.9408\n",
            "Epoch 33/50\n",
            "1875/1875 [==============================] - 7s 4ms/step - loss: 0.1965 - accuracy: 0.9408\n",
            "Epoch 34/50\n",
            "1875/1875 [==============================] - 8s 4ms/step - loss: 0.1945 - accuracy: 0.9414\n",
            "Epoch 35/50\n",
            "1875/1875 [==============================] - 6s 3ms/step - loss: 0.1940 - accuracy: 0.9414\n",
            "Epoch 36/50\n",
            "1875/1875 [==============================] - 8s 4ms/step - loss: 0.1927 - accuracy: 0.9415\n",
            "Epoch 37/50\n",
            "1875/1875 [==============================] - 6s 3ms/step - loss: 0.1916 - accuracy: 0.9422\n",
            "Epoch 38/50\n",
            "1875/1875 [==============================] - 7s 4ms/step - loss: 0.1904 - accuracy: 0.9426\n",
            "Epoch 39/50\n",
            "1875/1875 [==============================] - 7s 4ms/step - loss: 0.1891 - accuracy: 0.9429\n",
            "Epoch 40/50\n",
            "1875/1875 [==============================] - 8s 4ms/step - loss: 0.1877 - accuracy: 0.9429\n",
            "Epoch 41/50\n",
            "1875/1875 [==============================] - 6s 3ms/step - loss: 0.1862 - accuracy: 0.9435\n",
            "Epoch 42/50\n",
            "1875/1875 [==============================] - 8s 4ms/step - loss: 0.1855 - accuracy: 0.9442\n",
            "Epoch 43/50\n",
            "1875/1875 [==============================] - 7s 3ms/step - loss: 0.1844 - accuracy: 0.9445\n",
            "Epoch 44/50\n",
            "1875/1875 [==============================] - 8s 4ms/step - loss: 0.1832 - accuracy: 0.9448\n",
            "Epoch 45/50\n",
            "1875/1875 [==============================] - 6s 3ms/step - loss: 0.1829 - accuracy: 0.9449\n",
            "Epoch 46/50\n",
            "1875/1875 [==============================] - 8s 4ms/step - loss: 0.1819 - accuracy: 0.9449\n",
            "Epoch 47/50\n",
            "1875/1875 [==============================] - 6s 3ms/step - loss: 0.1803 - accuracy: 0.9450\n",
            "Epoch 48/50\n",
            "1875/1875 [==============================] - 8s 4ms/step - loss: 0.1803 - accuracy: 0.9460\n",
            "Epoch 49/50\n",
            "1875/1875 [==============================] - 6s 3ms/step - loss: 0.1791 - accuracy: 0.9453\n",
            "Epoch 50/50\n",
            "1875/1875 [==============================] - 8s 4ms/step - loss: 0.1785 - accuracy: 0.9457\n"
          ]
        }
      ]
    },
    {
      "cell_type": "code",
      "source": [
        "model.evaluate(x=train_x,y=train_y,batch_size=32) #had to make it lowercase x not X ??"
      ],
      "metadata": {
        "colab": {
          "base_uri": "https://localhost:8080/"
        },
        "id": "QD6xkmumHXhv",
        "outputId": "e6035f8a-bdef-49d2-84cb-9f3345340bc3"
      },
      "execution_count": null,
      "outputs": [
        {
          "output_type": "stream",
          "name": "stdout",
          "text": [
            "1875/1875 [==============================] - 8s 4ms/step - loss: 0.1752 - accuracy: 0.9466\n"
          ]
        },
        {
          "output_type": "execute_result",
          "data": {
            "text/plain": [
              "[0.1752495914697647, 0.9466000199317932]"
            ]
          },
          "metadata": {},
          "execution_count": 10
        }
      ]
    },
    {
      "cell_type": "code",
      "source": [
        "random_index = np.random.randint(low=0,high=training_data[0].shape[0],size=1,dtype=int)\n",
        "random_example = np.squeeze(training_data[0][random_index],axis=0)\n",
        "\n",
        "plt.imshow(random_example)\n",
        "print(f'Image Label: {training_data[1][random_index][0]}')\n",
        "plt.show"
      ],
      "metadata": {
        "colab": {
          "base_uri": "https://localhost:8080/",
          "height": 466
        },
        "id": "7FAqv7toIhLe",
        "outputId": "d9937cd6-a3da-4dc4-a966-dcb3f8a3f912"
      },
      "execution_count": null,
      "outputs": [
        {
          "output_type": "stream",
          "name": "stdout",
          "text": [
            "Image Label: 2\n"
          ]
        },
        {
          "output_type": "execute_result",
          "data": {
            "text/plain": [
              "<function matplotlib.pyplot.show(close=None, block=None)>"
            ]
          },
          "metadata": {},
          "execution_count": 19
        },
        {
          "output_type": "display_data",
          "data": {
            "text/plain": [
              "<Figure size 640x480 with 1 Axes>"
            ],
            "image/png": "[encoded data removed]"
          },
          "metadata": {}
        }
      ]
    },
    {
      "cell_type": "code",
      "source": [
        "prediction = model.predict(random_example.reshape(1,28,28))\n",
        "print(f'Actual: {training_data[1][random_index][0]}')\n",
        "print(f'Model Prediction: {np.argmax(prediction)}')"
      ],
      "metadata": {
        "colab": {
          "base_uri": "https://localhost:8080/"
        },
        "id": "62tQZJWsJWns",
        "outputId": "86a726f6-7beb-4479-ec25-85812a9e25f8"
      },
      "execution_count": null,
      "outputs": [
        {
          "output_type": "stream",
          "name": "stdout",
          "text": [
            "1/1 [==============================] - 0s 103ms/step\n",
            "Actual: 2\n",
            "Model Prediction: 2\n"
          ]
        }
      ]
    }
  ]
}